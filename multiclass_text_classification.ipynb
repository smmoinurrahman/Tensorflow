{
 "cells": [
  {
   "cell_type": "code",
   "id": "initial_id",
   "metadata": {
    "collapsed": true,
    "ExecuteTime": {
     "end_time": "2024-10-07T06:18:34.384966Z",
     "start_time": "2024-10-07T06:18:34.377428Z"
    }
   },
   "source": [
    "import tensorflow as tf\n",
    "import numpy as np\n",
    "import matplotlib.pyplot as plt\n",
    "import os\n",
    "from tensorflow.keras import layers\n",
    "from tensorflow.keras import losses\n",
    "import re\n",
    "import string"
   ],
   "outputs": [],
   "execution_count": 71
  },
  {
   "metadata": {
    "ExecuteTime": {
     "end_time": "2024-10-07T06:18:34.395568Z",
     "start_time": "2024-10-07T06:18:34.384966Z"
    }
   },
   "cell_type": "code",
   "source": [
    "# url = 'stack_overflow_16k.tar.gz'\n",
    "# dataset = tf.keras.utils.get_file(\n",
    "#     \"stack_overflow_16k.tar.gz\", url, untar=True, cache_dir= '.',\n",
    "#     cache_subdir = '')\n",
    "dataset_dir = 'stackoverflow_dataset'\n"
   ],
   "id": "e181ae1f76b50946",
   "outputs": [],
   "execution_count": 72
  },
  {
   "metadata": {
    "ExecuteTime": {
     "end_time": "2024-10-07T06:18:34.410321Z",
     "start_time": "2024-10-07T06:18:34.395568Z"
    }
   },
   "cell_type": "code",
   "source": "os.listdir(dataset_dir)",
   "id": "e99fbb7af0efd33f",
   "outputs": [
    {
     "data": {
      "text/plain": [
       "['README.md', 'test', 'train']"
      ]
     },
     "execution_count": 73,
     "metadata": {},
     "output_type": "execute_result"
    }
   ],
   "execution_count": 73
  },
  {
   "metadata": {
    "ExecuteTime": {
     "end_time": "2024-10-07T06:18:34.454353Z",
     "start_time": "2024-10-07T06:18:34.439778Z"
    }
   },
   "cell_type": "code",
   "source": [
    "train_dir = os.path.join('stackoverflow_dataset', 'train')\n",
    "test_dir = os.path.join('stackoverflow_dataset', 'test')"
   ],
   "id": "207276cfb77a4754",
   "outputs": [],
   "execution_count": 74
  },
  {
   "metadata": {
    "ExecuteTime": {
     "end_time": "2024-10-07T06:33:11.950585Z",
     "start_time": "2024-10-07T06:33:11.935986Z"
    }
   },
   "cell_type": "code",
   "source": [
    "class_names = os.listdir(train_dir)\n",
    "print(class_names)"
   ],
   "id": "314f1a8b5ddf6d40",
   "outputs": [
    {
     "name": "stdout",
     "output_type": "stream",
     "text": [
      "['csharp', 'java', 'javascript', 'python']\n"
     ]
    }
   ],
   "execution_count": 121
  },
  {
   "metadata": {
    "ExecuteTime": {
     "end_time": "2024-10-07T06:18:34.481968Z",
     "start_time": "2024-10-07T06:18:34.470547Z"
    }
   },
   "cell_type": "code",
   "source": [
    "sample_file = os.path.join(train_dir, 'csharp/0.txt')\n",
    "with open(sample_file) as f:\n",
    "    print(f.read())"
   ],
   "id": "36e1607326ed8404",
   "outputs": [
    {
     "name": "stdout",
     "output_type": "stream",
     "text": [
      "\"how to pause loop while time is ticking i have made a timer where i can set time i want to wait and then do something..so this is my short timer func:..private void sleep(int interval, action action).{.    system.windows.forms.timer mytimer = new system.windows.forms.timer();.    mytimer.interval = interval; //interval is in ms   .    mytimer.start();.    mytimer.tick += (s, e) =&gt;.    {.        action();.        mytimer.stop();.    };.}...and im using this timer in loop:..foreach (string word in words).{.   sleep(5000, ()=&gt; myaction());                                           .}...without loop timer is great but in loop it wont work because loop wont stop and wait for those 5secs. it do all stuff imediately and starts timer again and again too fast...so what im trying to find out is how to make my loop wait until time runs out and myaction() is executed. im working on forms application so all threadin sleeps wont work here. also i tried all other timers but they used too much cpu.\"\n",
      "\n"
     ]
    }
   ],
   "execution_count": 76
  },
  {
   "metadata": {
    "ExecuteTime": {
     "end_time": "2024-10-07T06:18:34.974212Z",
     "start_time": "2024-10-07T06:18:34.481968Z"
    }
   },
   "cell_type": "code",
   "source": [
    "batch_size = 32\n",
    "seed = 42\n",
    "raw_train_ds =tf.keras.utils.text_dataset_from_directory(\n",
    "    train_dir,\n",
    "    batch_size=batch_size,\n",
    "    seed=seed,\n",
    "    validation_split = 0.2,\n",
    "    subset = 'training'\n",
    ")"
   ],
   "id": "fdb585754c0e9bc5",
   "outputs": [
    {
     "name": "stdout",
     "output_type": "stream",
     "text": [
      "Found 8000 files belonging to 4 classes.\n",
      "Using 6400 files for training.\n"
     ]
    }
   ],
   "execution_count": 77
  },
  {
   "metadata": {
    "ExecuteTime": {
     "end_time": "2024-10-07T06:18:34.981280Z",
     "start_time": "2024-10-07T06:18:34.974212Z"
    }
   },
   "cell_type": "code",
   "source": "class_names = raw_train_ds.class_names",
   "id": "7fbda2d3c0aa18de",
   "outputs": [],
   "execution_count": 78
  },
  {
   "metadata": {
    "ExecuteTime": {
     "end_time": "2024-10-07T06:18:35.071845Z",
     "start_time": "2024-10-07T06:18:34.982593Z"
    }
   },
   "cell_type": "code",
   "source": "print(class_names)",
   "id": "5d6b2afa5a596e2",
   "outputs": [
    {
     "name": "stdout",
     "output_type": "stream",
     "text": [
      "['csharp', 'java', 'javascript', 'python']\n"
     ]
    }
   ],
   "execution_count": 79
  },
  {
   "metadata": {
    "ExecuteTime": {
     "end_time": "2024-10-07T06:18:35.408808Z",
     "start_time": "2024-10-07T06:18:35.071845Z"
    }
   },
   "cell_type": "code",
   "source": [
    "raw_val_ds =tf.keras.utils.text_dataset_from_directory(\n",
    "    train_dir,\n",
    "    batch_size=batch_size,\n",
    "    seed=seed,\n",
    "    validation_split = 0.2,\n",
    "    subset = 'validation'\n",
    ")"
   ],
   "id": "f5b44cea3c69da4b",
   "outputs": [
    {
     "name": "stdout",
     "output_type": "stream",
     "text": [
      "Found 8000 files belonging to 4 classes.\n",
      "Using 1600 files for validation.\n"
     ]
    }
   ],
   "execution_count": 80
  },
  {
   "metadata": {
    "ExecuteTime": {
     "end_time": "2024-10-07T06:18:35.724778Z",
     "start_time": "2024-10-07T06:18:35.408808Z"
    }
   },
   "cell_type": "code",
   "source": [
    "raw_test_ds =tf.keras.utils.text_dataset_from_directory(\n",
    "    test_dir,\n",
    "    batch_size=batch_size,\n",
    "    \n",
    ")"
   ],
   "id": "ca90748b8413f1f5",
   "outputs": [
    {
     "name": "stdout",
     "output_type": "stream",
     "text": [
      "Found 8000 files belonging to 4 classes.\n"
     ]
    }
   ],
   "execution_count": 81
  },
  {
   "metadata": {
    "ExecuteTime": {
     "end_time": "2024-10-07T06:18:35.730999Z",
     "start_time": "2024-10-07T06:18:35.724778Z"
    }
   },
   "cell_type": "code",
   "source": [
    "def custom_standardization(input_data):\n",
    "  lowercase = tf.strings.lower(input_data)\n",
    "  stripped_html = tf.strings.regex_replace(lowercase, '<br />', ' ')\n",
    "  return tf.strings.regex_replace(stripped_html,\n",
    "                                  '[%s]' % re.escape(string.punctuation),\n",
    "                                  '')"
   ],
   "id": "e1036e6a0d4bba2",
   "outputs": [],
   "execution_count": 82
  },
  {
   "metadata": {
    "ExecuteTime": {
     "end_time": "2024-10-07T06:18:35.747258Z",
     "start_time": "2024-10-07T06:18:35.732027Z"
    }
   },
   "cell_type": "code",
   "source": [
    "max_features = 10000\n",
    "sequence_length = 250\n",
    "\n",
    "vectorize_layer = layers.TextVectorization(\n",
    "    standardize=custom_standardization,\n",
    "    max_tokens=max_features,\n",
    "    output_mode='int',\n",
    "    output_sequence_length=sequence_length)"
   ],
   "id": "3e5df82e4f1fc0bf",
   "outputs": [],
   "execution_count": 83
  },
  {
   "metadata": {
    "ExecuteTime": {
     "end_time": "2024-10-07T06:22:00.174624Z",
     "start_time": "2024-10-07T06:21:51.684241Z"
    }
   },
   "cell_type": "code",
   "source": [
    "train_text = raw_train_ds.map(lambda x, y: x)\n",
    "vectorize_layer.adapt(train_text)"
   ],
   "id": "9c8679624f58ba8d",
   "outputs": [],
   "execution_count": 94
  },
  {
   "metadata": {
    "ExecuteTime": {
     "end_time": "2024-10-07T06:22:01.649971Z",
     "start_time": "2024-10-07T06:22:01.642979Z"
    }
   },
   "cell_type": "code",
   "source": [
    "def vectorize_text(text, label):\n",
    "    text = tf.expand_dims(text, axis=-1)\n",
    "    return vectorize_layer(text),label"
   ],
   "id": "df4380cb6f9894b4",
   "outputs": [],
   "execution_count": 95
  },
  {
   "metadata": {
    "ExecuteTime": {
     "end_time": "2024-10-07T06:22:02.529717Z",
     "start_time": "2024-10-07T06:22:02.362972Z"
    }
   },
   "cell_type": "code",
   "source": [
    "train_ds = raw_train_ds.map(vectorize_text)\n",
    "val_ds = raw_val_ds.map(vectorize_text)\n",
    "test_ds = raw_test_ds.map(vectorize_text)"
   ],
   "id": "3c58eb3ba70f10ac",
   "outputs": [],
   "execution_count": 96
  },
  {
   "metadata": {
    "ExecuteTime": {
     "end_time": "2024-10-07T06:22:03.423423Z",
     "start_time": "2024-10-07T06:22:03.407102Z"
    }
   },
   "cell_type": "code",
   "source": "",
   "id": "1b2bd5657793291",
   "outputs": [],
   "execution_count": 96
  },
  {
   "metadata": {
    "ExecuteTime": {
     "end_time": "2024-10-07T06:22:03.820027Z",
     "start_time": "2024-10-07T06:22:03.788211Z"
    }
   },
   "cell_type": "code",
   "source": [
    "AUTOTUNE = tf.data.AUTOTUNE\n",
    "\n",
    "train_ds = train_ds.cache().prefetch(buffer_size=AUTOTUNE)\n",
    "val_ds = val_ds.cache().prefetch(buffer_size=AUTOTUNE)\n",
    "test_ds = test_ds.cache().prefetch(buffer_size=AUTOTUNE)"
   ],
   "id": "f7a36c21fa7ceaa0",
   "outputs": [],
   "execution_count": 97
  },
  {
   "metadata": {
    "ExecuteTime": {
     "end_time": "2024-10-07T06:22:04.584034Z",
     "start_time": "2024-10-07T06:22:04.575875Z"
    }
   },
   "cell_type": "code",
   "source": "embedding_dim = 16",
   "id": "99e3bc8287cda563",
   "outputs": [],
   "execution_count": 98
  },
  {
   "metadata": {
    "ExecuteTime": {
     "end_time": "2024-10-07T06:24:07.155551Z",
     "start_time": "2024-10-07T06:24:07.107081Z"
    }
   },
   "cell_type": "code",
   "source": [
    "model = tf.keras.Sequential([\n",
    "    layers.Embedding(max_features, embedding_dim),\n",
    "    layers.Dropout(0.2),\n",
    "    layers.GlobalAveragePooling1D(),\n",
    "    layers.Dropout(0.2),\n",
    "    layers.Dense(4, activation='softmax')\n",
    "])\n",
    "model.summary()"
   ],
   "id": "40a98d32b354802a",
   "outputs": [
    {
     "data": {
      "text/plain": [
       "\u001B[1mModel: \"sequential_6\"\u001B[0m\n"
      ],
      "text/html": [
       "<pre style=\"white-space:pre;overflow-x:auto;line-height:normal;font-family:Menlo,'DejaVu Sans Mono',consolas,'Courier New',monospace\"><span style=\"font-weight: bold\">Model: \"sequential_6\"</span>\n",
       "</pre>\n"
      ]
     },
     "metadata": {},
     "output_type": "display_data"
    },
    {
     "data": {
      "text/plain": [
       "┏━━━━━━━━━━━━━━━━━━━━━━━━━━━━━━━━━┳━━━━━━━━━━━━━━━━━━━━━━━━┳━━━━━━━━━━━━━━━┓\n",
       "┃\u001B[1m \u001B[0m\u001B[1mLayer (type)                   \u001B[0m\u001B[1m \u001B[0m┃\u001B[1m \u001B[0m\u001B[1mOutput Shape          \u001B[0m\u001B[1m \u001B[0m┃\u001B[1m \u001B[0m\u001B[1m      Param #\u001B[0m\u001B[1m \u001B[0m┃\n",
       "┡━━━━━━━━━━━━━━━━━━━━━━━━━━━━━━━━━╇━━━━━━━━━━━━━━━━━━━━━━━━╇━━━━━━━━━━━━━━━┩\n",
       "│ embedding_6 (\u001B[38;5;33mEmbedding\u001B[0m)         │ ?                      │   \u001B[38;5;34m0\u001B[0m (unbuilt) │\n",
       "├─────────────────────────────────┼────────────────────────┼───────────────┤\n",
       "│ dropout_12 (\u001B[38;5;33mDropout\u001B[0m)            │ ?                      │   \u001B[38;5;34m0\u001B[0m (unbuilt) │\n",
       "├─────────────────────────────────┼────────────────────────┼───────────────┤\n",
       "│ global_average_pooling1d_6      │ ?                      │   \u001B[38;5;34m0\u001B[0m (unbuilt) │\n",
       "│ (\u001B[38;5;33mGlobalAveragePooling1D\u001B[0m)        │                        │               │\n",
       "├─────────────────────────────────┼────────────────────────┼───────────────┤\n",
       "│ dropout_13 (\u001B[38;5;33mDropout\u001B[0m)            │ ?                      │   \u001B[38;5;34m0\u001B[0m (unbuilt) │\n",
       "├─────────────────────────────────┼────────────────────────┼───────────────┤\n",
       "│ dense_6 (\u001B[38;5;33mDense\u001B[0m)                 │ ?                      │   \u001B[38;5;34m0\u001B[0m (unbuilt) │\n",
       "└─────────────────────────────────┴────────────────────────┴───────────────┘\n"
      ],
      "text/html": [
       "<pre style=\"white-space:pre;overflow-x:auto;line-height:normal;font-family:Menlo,'DejaVu Sans Mono',consolas,'Courier New',monospace\">┏━━━━━━━━━━━━━━━━━━━━━━━━━━━━━━━━━┳━━━━━━━━━━━━━━━━━━━━━━━━┳━━━━━━━━━━━━━━━┓\n",
       "┃<span style=\"font-weight: bold\"> Layer (type)                    </span>┃<span style=\"font-weight: bold\"> Output Shape           </span>┃<span style=\"font-weight: bold\">       Param # </span>┃\n",
       "┡━━━━━━━━━━━━━━━━━━━━━━━━━━━━━━━━━╇━━━━━━━━━━━━━━━━━━━━━━━━╇━━━━━━━━━━━━━━━┩\n",
       "│ embedding_6 (<span style=\"color: #0087ff; text-decoration-color: #0087ff\">Embedding</span>)         │ ?                      │   <span style=\"color: #00af00; text-decoration-color: #00af00\">0</span> (unbuilt) │\n",
       "├─────────────────────────────────┼────────────────────────┼───────────────┤\n",
       "│ dropout_12 (<span style=\"color: #0087ff; text-decoration-color: #0087ff\">Dropout</span>)            │ ?                      │   <span style=\"color: #00af00; text-decoration-color: #00af00\">0</span> (unbuilt) │\n",
       "├─────────────────────────────────┼────────────────────────┼───────────────┤\n",
       "│ global_average_pooling1d_6      │ ?                      │   <span style=\"color: #00af00; text-decoration-color: #00af00\">0</span> (unbuilt) │\n",
       "│ (<span style=\"color: #0087ff; text-decoration-color: #0087ff\">GlobalAveragePooling1D</span>)        │                        │               │\n",
       "├─────────────────────────────────┼────────────────────────┼───────────────┤\n",
       "│ dropout_13 (<span style=\"color: #0087ff; text-decoration-color: #0087ff\">Dropout</span>)            │ ?                      │   <span style=\"color: #00af00; text-decoration-color: #00af00\">0</span> (unbuilt) │\n",
       "├─────────────────────────────────┼────────────────────────┼───────────────┤\n",
       "│ dense_6 (<span style=\"color: #0087ff; text-decoration-color: #0087ff\">Dense</span>)                 │ ?                      │   <span style=\"color: #00af00; text-decoration-color: #00af00\">0</span> (unbuilt) │\n",
       "└─────────────────────────────────┴────────────────────────┴───────────────┘\n",
       "</pre>\n"
      ]
     },
     "metadata": {},
     "output_type": "display_data"
    },
    {
     "data": {
      "text/plain": [
       "\u001B[1m Total params: \u001B[0m\u001B[38;5;34m0\u001B[0m (0.00 B)\n"
      ],
      "text/html": [
       "<pre style=\"white-space:pre;overflow-x:auto;line-height:normal;font-family:Menlo,'DejaVu Sans Mono',consolas,'Courier New',monospace\"><span style=\"font-weight: bold\"> Total params: </span><span style=\"color: #00af00; text-decoration-color: #00af00\">0</span> (0.00 B)\n",
       "</pre>\n"
      ]
     },
     "metadata": {},
     "output_type": "display_data"
    },
    {
     "data": {
      "text/plain": [
       "\u001B[1m Trainable params: \u001B[0m\u001B[38;5;34m0\u001B[0m (0.00 B)\n"
      ],
      "text/html": [
       "<pre style=\"white-space:pre;overflow-x:auto;line-height:normal;font-family:Menlo,'DejaVu Sans Mono',consolas,'Courier New',monospace\"><span style=\"font-weight: bold\"> Trainable params: </span><span style=\"color: #00af00; text-decoration-color: #00af00\">0</span> (0.00 B)\n",
       "</pre>\n"
      ]
     },
     "metadata": {},
     "output_type": "display_data"
    },
    {
     "data": {
      "text/plain": [
       "\u001B[1m Non-trainable params: \u001B[0m\u001B[38;5;34m0\u001B[0m (0.00 B)\n"
      ],
      "text/html": [
       "<pre style=\"white-space:pre;overflow-x:auto;line-height:normal;font-family:Menlo,'DejaVu Sans Mono',consolas,'Courier New',monospace\"><span style=\"font-weight: bold\"> Non-trainable params: </span><span style=\"color: #00af00; text-decoration-color: #00af00\">0</span> (0.00 B)\n",
       "</pre>\n"
      ]
     },
     "metadata": {},
     "output_type": "display_data"
    }
   ],
   "execution_count": 106
  },
  {
   "metadata": {
    "ExecuteTime": {
     "end_time": "2024-10-07T06:24:07.486194Z",
     "start_time": "2024-10-07T06:24:07.468561Z"
    }
   },
   "cell_type": "code",
   "source": [
    "model.compile(loss=losses.SparseCategoricalCrossentropy(from_logits=True),\n",
    "              optimizer=tf.keras.optimizers.Adam(),\n",
    "              metrics = ['Accuracy']\n",
    "              )"
   ],
   "id": "83450eda145011d4",
   "outputs": [],
   "execution_count": 107
  },
  {
   "metadata": {
    "ExecuteTime": {
     "end_time": "2024-10-07T06:25:19.370222Z",
     "start_time": "2024-10-07T06:24:49.421925Z"
    }
   },
   "cell_type": "code",
   "source": [
    "epochs = 50\n",
    "history = model.fit(\n",
    "    train_ds,\n",
    "    validation_data=val_ds,\n",
    "    epochs=epochs)"
   ],
   "id": "87c7ff5996c12648",
   "outputs": [
    {
     "name": "stdout",
     "output_type": "stream",
     "text": [
      "Epoch 1/50\n",
      "\u001B[1m200/200\u001B[0m \u001B[32m━━━━━━━━━━━━━━━━━━━━\u001B[0m\u001B[37m\u001B[0m \u001B[1m1s\u001B[0m 4ms/step - Accuracy: 0.8785 - loss: 0.4022 - val_Accuracy: 0.7931 - val_loss: 0.5374\n",
      "Epoch 2/50\n",
      "\u001B[1m200/200\u001B[0m \u001B[32m━━━━━━━━━━━━━━━━━━━━\u001B[0m\u001B[37m\u001B[0m \u001B[1m1s\u001B[0m 3ms/step - Accuracy: 0.8847 - loss: 0.3873 - val_Accuracy: 0.7956 - val_loss: 0.5276\n",
      "Epoch 3/50\n",
      "\u001B[1m200/200\u001B[0m \u001B[32m━━━━━━━━━━━━━━━━━━━━\u001B[0m\u001B[37m\u001B[0m \u001B[1m1s\u001B[0m 3ms/step - Accuracy: 0.8926 - loss: 0.3757 - val_Accuracy: 0.7987 - val_loss: 0.5234\n",
      "Epoch 4/50\n",
      "\u001B[1m200/200\u001B[0m \u001B[32m━━━━━━━━━━━━━━━━━━━━\u001B[0m\u001B[37m\u001B[0m \u001B[1m1s\u001B[0m 3ms/step - Accuracy: 0.8905 - loss: 0.3711 - val_Accuracy: 0.8006 - val_loss: 0.5207\n",
      "Epoch 5/50\n",
      "\u001B[1m200/200\u001B[0m \u001B[32m━━━━━━━━━━━━━━━━━━━━\u001B[0m\u001B[37m\u001B[0m \u001B[1m1s\u001B[0m 3ms/step - Accuracy: 0.8929 - loss: 0.3622 - val_Accuracy: 0.7969 - val_loss: 0.5232\n",
      "Epoch 6/50\n",
      "\u001B[1m200/200\u001B[0m \u001B[32m━━━━━━━━━━━━━━━━━━━━\u001B[0m\u001B[37m\u001B[0m \u001B[1m1s\u001B[0m 3ms/step - Accuracy: 0.8933 - loss: 0.3532 - val_Accuracy: 0.7962 - val_loss: 0.5182\n",
      "Epoch 7/50\n",
      "\u001B[1m200/200\u001B[0m \u001B[32m━━━━━━━━━━━━━━━━━━━━\u001B[0m\u001B[37m\u001B[0m \u001B[1m1s\u001B[0m 3ms/step - Accuracy: 0.9026 - loss: 0.3437 - val_Accuracy: 0.8031 - val_loss: 0.5128\n",
      "Epoch 8/50\n",
      "\u001B[1m200/200\u001B[0m \u001B[32m━━━━━━━━━━━━━━━━━━━━\u001B[0m\u001B[37m\u001B[0m \u001B[1m1s\u001B[0m 3ms/step - Accuracy: 0.8974 - loss: 0.3363 - val_Accuracy: 0.8044 - val_loss: 0.5118\n",
      "Epoch 9/50\n",
      "\u001B[1m200/200\u001B[0m \u001B[32m━━━━━━━━━━━━━━━━━━━━\u001B[0m\u001B[37m\u001B[0m \u001B[1m1s\u001B[0m 3ms/step - Accuracy: 0.9069 - loss: 0.3249 - val_Accuracy: 0.7975 - val_loss: 0.5173\n",
      "Epoch 10/50\n",
      "\u001B[1m200/200\u001B[0m \u001B[32m━━━━━━━━━━━━━━━━━━━━\u001B[0m\u001B[37m\u001B[0m \u001B[1m1s\u001B[0m 3ms/step - Accuracy: 0.9086 - loss: 0.3206 - val_Accuracy: 0.8075 - val_loss: 0.5078\n",
      "Epoch 11/50\n",
      "\u001B[1m200/200\u001B[0m \u001B[32m━━━━━━━━━━━━━━━━━━━━\u001B[0m\u001B[37m\u001B[0m \u001B[1m1s\u001B[0m 3ms/step - Accuracy: 0.9099 - loss: 0.3133 - val_Accuracy: 0.8044 - val_loss: 0.5072\n",
      "Epoch 12/50\n",
      "\u001B[1m200/200\u001B[0m \u001B[32m━━━━━━━━━━━━━━━━━━━━\u001B[0m\u001B[37m\u001B[0m \u001B[1m1s\u001B[0m 3ms/step - Accuracy: 0.9153 - loss: 0.3018 - val_Accuracy: 0.8087 - val_loss: 0.5031\n",
      "Epoch 13/50\n",
      "\u001B[1m200/200\u001B[0m \u001B[32m━━━━━━━━━━━━━━━━━━━━\u001B[0m\u001B[37m\u001B[0m \u001B[1m1s\u001B[0m 3ms/step - Accuracy: 0.9131 - loss: 0.2974 - val_Accuracy: 0.8075 - val_loss: 0.5031\n",
      "Epoch 14/50\n",
      "\u001B[1m200/200\u001B[0m \u001B[32m━━━━━━━━━━━━━━━━━━━━\u001B[0m\u001B[37m\u001B[0m \u001B[1m1s\u001B[0m 3ms/step - Accuracy: 0.9158 - loss: 0.2913 - val_Accuracy: 0.8081 - val_loss: 0.5061\n",
      "Epoch 15/50\n",
      "\u001B[1m200/200\u001B[0m \u001B[32m━━━━━━━━━━━━━━━━━━━━\u001B[0m\u001B[37m\u001B[0m \u001B[1m1s\u001B[0m 3ms/step - Accuracy: 0.9204 - loss: 0.2798 - val_Accuracy: 0.8056 - val_loss: 0.5047\n",
      "Epoch 16/50\n",
      "\u001B[1m200/200\u001B[0m \u001B[32m━━━━━━━━━━━━━━━━━━━━\u001B[0m\u001B[37m\u001B[0m \u001B[1m1s\u001B[0m 3ms/step - Accuracy: 0.9223 - loss: 0.2772 - val_Accuracy: 0.8112 - val_loss: 0.5008\n",
      "Epoch 17/50\n",
      "\u001B[1m200/200\u001B[0m \u001B[32m━━━━━━━━━━━━━━━━━━━━\u001B[0m\u001B[37m\u001B[0m \u001B[1m1s\u001B[0m 3ms/step - Accuracy: 0.9285 - loss: 0.2681 - val_Accuracy: 0.8075 - val_loss: 0.5030\n",
      "Epoch 18/50\n",
      "\u001B[1m200/200\u001B[0m \u001B[32m━━━━━━━━━━━━━━━━━━━━\u001B[0m\u001B[37m\u001B[0m \u001B[1m1s\u001B[0m 3ms/step - Accuracy: 0.9265 - loss: 0.2654 - val_Accuracy: 0.8075 - val_loss: 0.5075\n",
      "Epoch 19/50\n",
      "\u001B[1m200/200\u001B[0m \u001B[32m━━━━━━━━━━━━━━━━━━━━\u001B[0m\u001B[37m\u001B[0m \u001B[1m1s\u001B[0m 3ms/step - Accuracy: 0.9209 - loss: 0.2617 - val_Accuracy: 0.8094 - val_loss: 0.5058\n",
      "Epoch 20/50\n",
      "\u001B[1m200/200\u001B[0m \u001B[32m━━━━━━━━━━━━━━━━━━━━\u001B[0m\u001B[37m\u001B[0m \u001B[1m1s\u001B[0m 3ms/step - Accuracy: 0.9287 - loss: 0.2566 - val_Accuracy: 0.8094 - val_loss: 0.5076\n",
      "Epoch 21/50\n",
      "\u001B[1m200/200\u001B[0m \u001B[32m━━━━━━━━━━━━━━━━━━━━\u001B[0m\u001B[37m\u001B[0m \u001B[1m1s\u001B[0m 3ms/step - Accuracy: 0.9285 - loss: 0.2489 - val_Accuracy: 0.8050 - val_loss: 0.5128\n",
      "Epoch 22/50\n",
      "\u001B[1m200/200\u001B[0m \u001B[32m━━━━━━━━━━━━━━━━━━━━\u001B[0m\u001B[37m\u001B[0m \u001B[1m1s\u001B[0m 3ms/step - Accuracy: 0.9278 - loss: 0.2422 - val_Accuracy: 0.8125 - val_loss: 0.5035\n",
      "Epoch 23/50\n",
      "\u001B[1m200/200\u001B[0m \u001B[32m━━━━━━━━━━━━━━━━━━━━\u001B[0m\u001B[37m\u001B[0m \u001B[1m1s\u001B[0m 3ms/step - Accuracy: 0.9374 - loss: 0.2365 - val_Accuracy: 0.8050 - val_loss: 0.5168\n",
      "Epoch 24/50\n",
      "\u001B[1m200/200\u001B[0m \u001B[32m━━━━━━━━━━━━━━━━━━━━\u001B[0m\u001B[37m\u001B[0m \u001B[1m1s\u001B[0m 3ms/step - Accuracy: 0.9340 - loss: 0.2334 - val_Accuracy: 0.8112 - val_loss: 0.5089\n",
      "Epoch 25/50\n",
      "\u001B[1m200/200\u001B[0m \u001B[32m━━━━━━━━━━━━━━━━━━━━\u001B[0m\u001B[37m\u001B[0m \u001B[1m1s\u001B[0m 3ms/step - Accuracy: 0.9399 - loss: 0.2248 - val_Accuracy: 0.8106 - val_loss: 0.5052\n",
      "Epoch 26/50\n",
      "\u001B[1m200/200\u001B[0m \u001B[32m━━━━━━━━━━━━━━━━━━━━\u001B[0m\u001B[37m\u001B[0m \u001B[1m1s\u001B[0m 3ms/step - Accuracy: 0.9424 - loss: 0.2207 - val_Accuracy: 0.8119 - val_loss: 0.5074\n",
      "Epoch 27/50\n",
      "\u001B[1m200/200\u001B[0m \u001B[32m━━━━━━━━━━━━━━━━━━━━\u001B[0m\u001B[37m\u001B[0m \u001B[1m1s\u001B[0m 3ms/step - Accuracy: 0.9459 - loss: 0.2134 - val_Accuracy: 0.8056 - val_loss: 0.5180\n",
      "Epoch 28/50\n",
      "\u001B[1m200/200\u001B[0m \u001B[32m━━━━━━━━━━━━━━━━━━━━\u001B[0m\u001B[37m\u001B[0m \u001B[1m1s\u001B[0m 3ms/step - Accuracy: 0.9435 - loss: 0.2117 - val_Accuracy: 0.8069 - val_loss: 0.5155\n",
      "Epoch 29/50\n",
      "\u001B[1m200/200\u001B[0m \u001B[32m━━━━━━━━━━━━━━━━━━━━\u001B[0m\u001B[37m\u001B[0m \u001B[1m1s\u001B[0m 3ms/step - Accuracy: 0.9408 - loss: 0.2091 - val_Accuracy: 0.8094 - val_loss: 0.5170\n",
      "Epoch 30/50\n",
      "\u001B[1m200/200\u001B[0m \u001B[32m━━━━━━━━━━━━━━━━━━━━\u001B[0m\u001B[37m\u001B[0m \u001B[1m1s\u001B[0m 3ms/step - Accuracy: 0.9428 - loss: 0.2056 - val_Accuracy: 0.8044 - val_loss: 0.5263\n",
      "Epoch 31/50\n",
      "\u001B[1m200/200\u001B[0m \u001B[32m━━━━━━━━━━━━━━━━━━━━\u001B[0m\u001B[37m\u001B[0m \u001B[1m1s\u001B[0m 3ms/step - Accuracy: 0.9471 - loss: 0.1952 - val_Accuracy: 0.8044 - val_loss: 0.5252\n",
      "Epoch 32/50\n",
      "\u001B[1m200/200\u001B[0m \u001B[32m━━━━━━━━━━━━━━━━━━━━\u001B[0m\u001B[37m\u001B[0m \u001B[1m1s\u001B[0m 3ms/step - Accuracy: 0.9448 - loss: 0.1950 - val_Accuracy: 0.8100 - val_loss: 0.5206\n",
      "Epoch 33/50\n",
      "\u001B[1m200/200\u001B[0m \u001B[32m━━━━━━━━━━━━━━━━━━━━\u001B[0m\u001B[37m\u001B[0m \u001B[1m1s\u001B[0m 3ms/step - Accuracy: 0.9450 - loss: 0.1912 - val_Accuracy: 0.8106 - val_loss: 0.5177\n",
      "Epoch 34/50\n",
      "\u001B[1m200/200\u001B[0m \u001B[32m━━━━━━━━━━━━━━━━━━━━\u001B[0m\u001B[37m\u001B[0m \u001B[1m1s\u001B[0m 3ms/step - Accuracy: 0.9453 - loss: 0.1904 - val_Accuracy: 0.8069 - val_loss: 0.5245\n",
      "Epoch 35/50\n",
      "\u001B[1m200/200\u001B[0m \u001B[32m━━━━━━━━━━━━━━━━━━━━\u001B[0m\u001B[37m\u001B[0m \u001B[1m1s\u001B[0m 3ms/step - Accuracy: 0.9501 - loss: 0.1868 - val_Accuracy: 0.8031 - val_loss: 0.5365\n",
      "Epoch 36/50\n",
      "\u001B[1m200/200\u001B[0m \u001B[32m━━━━━━━━━━━━━━━━━━━━\u001B[0m\u001B[37m\u001B[0m \u001B[1m1s\u001B[0m 3ms/step - Accuracy: 0.9502 - loss: 0.1795 - val_Accuracy: 0.8069 - val_loss: 0.5300\n",
      "Epoch 37/50\n",
      "\u001B[1m200/200\u001B[0m \u001B[32m━━━━━━━━━━━━━━━━━━━━\u001B[0m\u001B[37m\u001B[0m \u001B[1m1s\u001B[0m 3ms/step - Accuracy: 0.9517 - loss: 0.1775 - val_Accuracy: 0.8056 - val_loss: 0.5407\n",
      "Epoch 38/50\n",
      "\u001B[1m200/200\u001B[0m \u001B[32m━━━━━━━━━━━━━━━━━━━━\u001B[0m\u001B[37m\u001B[0m \u001B[1m1s\u001B[0m 3ms/step - Accuracy: 0.9577 - loss: 0.1683 - val_Accuracy: 0.8056 - val_loss: 0.5388\n",
      "Epoch 39/50\n",
      "\u001B[1m200/200\u001B[0m \u001B[32m━━━━━━━━━━━━━━━━━━━━\u001B[0m\u001B[37m\u001B[0m \u001B[1m1s\u001B[0m 3ms/step - Accuracy: 0.9514 - loss: 0.1715 - val_Accuracy: 0.8069 - val_loss: 0.5399\n",
      "Epoch 40/50\n",
      "\u001B[1m200/200\u001B[0m \u001B[32m━━━━━━━━━━━━━━━━━━━━\u001B[0m\u001B[37m\u001B[0m \u001B[1m1s\u001B[0m 3ms/step - Accuracy: 0.9595 - loss: 0.1622 - val_Accuracy: 0.8044 - val_loss: 0.5504\n",
      "Epoch 41/50\n",
      "\u001B[1m200/200\u001B[0m \u001B[32m━━━━━━━━━━━━━━━━━━━━\u001B[0m\u001B[37m\u001B[0m \u001B[1m1s\u001B[0m 3ms/step - Accuracy: 0.9552 - loss: 0.1658 - val_Accuracy: 0.8044 - val_loss: 0.5453\n",
      "Epoch 42/50\n",
      "\u001B[1m200/200\u001B[0m \u001B[32m━━━━━━━━━━━━━━━━━━━━\u001B[0m\u001B[37m\u001B[0m \u001B[1m1s\u001B[0m 4ms/step - Accuracy: 0.9576 - loss: 0.1624 - val_Accuracy: 0.8000 - val_loss: 0.5574\n",
      "Epoch 43/50\n",
      "\u001B[1m200/200\u001B[0m \u001B[32m━━━━━━━━━━━━━━━━━━━━\u001B[0m\u001B[37m\u001B[0m \u001B[1m1s\u001B[0m 3ms/step - Accuracy: 0.9599 - loss: 0.1584 - val_Accuracy: 0.8106 - val_loss: 0.5437\n",
      "Epoch 44/50\n",
      "\u001B[1m200/200\u001B[0m \u001B[32m━━━━━━━━━━━━━━━━━━━━\u001B[0m\u001B[37m\u001B[0m \u001B[1m1s\u001B[0m 3ms/step - Accuracy: 0.9579 - loss: 0.1547 - val_Accuracy: 0.8031 - val_loss: 0.5606\n",
      "Epoch 45/50\n",
      "\u001B[1m200/200\u001B[0m \u001B[32m━━━━━━━━━━━━━━━━━━━━\u001B[0m\u001B[37m\u001B[0m \u001B[1m1s\u001B[0m 3ms/step - Accuracy: 0.9588 - loss: 0.1469 - val_Accuracy: 0.8000 - val_loss: 0.5651\n",
      "Epoch 46/50\n",
      "\u001B[1m200/200\u001B[0m \u001B[32m━━━━━━━━━━━━━━━━━━━━\u001B[0m\u001B[37m\u001B[0m \u001B[1m1s\u001B[0m 3ms/step - Accuracy: 0.9566 - loss: 0.1526 - val_Accuracy: 0.8019 - val_loss: 0.5723\n",
      "Epoch 47/50\n",
      "\u001B[1m200/200\u001B[0m \u001B[32m━━━━━━━━━━━━━━━━━━━━\u001B[0m\u001B[37m\u001B[0m \u001B[1m1s\u001B[0m 3ms/step - Accuracy: 0.9598 - loss: 0.1461 - val_Accuracy: 0.8081 - val_loss: 0.5646\n",
      "Epoch 48/50\n",
      "\u001B[1m200/200\u001B[0m \u001B[32m━━━━━━━━━━━━━━━━━━━━\u001B[0m\u001B[37m\u001B[0m \u001B[1m1s\u001B[0m 3ms/step - Accuracy: 0.9618 - loss: 0.1446 - val_Accuracy: 0.8069 - val_loss: 0.5729\n",
      "Epoch 49/50\n",
      "\u001B[1m200/200\u001B[0m \u001B[32m━━━━━━━━━━━━━━━━━━━━\u001B[0m\u001B[37m\u001B[0m \u001B[1m1s\u001B[0m 3ms/step - Accuracy: 0.9631 - loss: 0.1355 - val_Accuracy: 0.8150 - val_loss: 0.5553\n",
      "Epoch 50/50\n",
      "\u001B[1m200/200\u001B[0m \u001B[32m━━━━━━━━━━━━━━━━━━━━\u001B[0m\u001B[37m\u001B[0m \u001B[1m1s\u001B[0m 3ms/step - Accuracy: 0.9643 - loss: 0.1299 - val_Accuracy: 0.8106 - val_loss: 0.5714\n"
     ]
    }
   ],
   "execution_count": 110
  },
  {
   "metadata": {
    "ExecuteTime": {
     "end_time": "2024-10-07T06:26:01.236493Z",
     "start_time": "2024-10-07T06:25:47.910785Z"
    }
   },
   "cell_type": "code",
   "source": "loss, accuracy = model.evaluate(test_ds)",
   "id": "7e35e091962b8f9c",
   "outputs": [
    {
     "name": "stdout",
     "output_type": "stream",
     "text": [
      "\u001B[1m250/250\u001B[0m \u001B[32m━━━━━━━━━━━━━━━━━━━━\u001B[0m\u001B[37m\u001B[0m \u001B[1m13s\u001B[0m 53ms/step - Accuracy: 0.7903 - loss: 0.6259\n"
     ]
    }
   ],
   "execution_count": 111
  },
  {
   "metadata": {
    "ExecuteTime": {
     "end_time": "2024-10-07T06:29:21.637520Z",
     "start_time": "2024-10-07T06:29:19.311537Z"
    }
   },
   "cell_type": "code",
   "source": [
    "export_model = tf.keras.Sequential([\n",
    "  vectorize_layer,\n",
    "  model,\n",
    "  layers.Activation('softmax')\n",
    "])\n",
    "\n",
    "export_model.compile(\n",
    "    loss=losses.SparseCategoricalCrossentropy(from_logits=False), optimizer=\"adam\", metrics=['accuracy']\n",
    ")\n",
    "\n",
    "# Test it with `raw_test_ds`, which yields raw strings\n",
    "metrics = export_model.evaluate(raw_test_ds, return_dict=True)\n",
    "print(metrics)"
   ],
   "id": "fba1677b763e30e8",
   "outputs": [
    {
     "name": "stdout",
     "output_type": "stream",
     "text": [
      "\u001B[1m250/250\u001B[0m \u001B[32m━━━━━━━━━━━━━━━━━━━━\u001B[0m\u001B[37m\u001B[0m \u001B[1m2s\u001B[0m 8ms/step - Accuracy: 0.0000e+00 - accuracy: 0.7927 - loss: 0.0000e+00\n",
      "{'Accuracy': 0.0, 'accuracy': 0.7885000109672546, 'loss': 0.0}\n"
     ]
    }
   ],
   "execution_count": 113
  },
  {
   "metadata": {
    "ExecuteTime": {
     "end_time": "2024-10-07T06:57:05.109868Z",
     "start_time": "2024-10-07T06:57:04.979989Z"
    }
   },
   "cell_type": "code",
   "source": [
    "examples = tf.constant([\n",
    " \"how do i display the original date using system datetime blank i used the the code below to fine people if they brought the book after it was due. but when i calculate the date of the duedate is changing to 1/1/0001?..i need help keeping the original duedate displayed...private short bookloan;..private void btncal_click(object sender, eventargs e).{.    system.datetime datedueback = new system.datetime();..    long daysoverdue = 0;.    decimal finerate = default(decimal);.    decimal fine = default(decimal);..    txtdatedue.text = datedueback.tostring();..    daysoverdue= microsoft.visualbasic.dateandtime.datediff(\"\"d\"\", datedueback, txtdatereturned.text);..    switch (numericupdown1.decimalplaces) {.        case 0:.            bookloan = 1;.            finerate = 2;.            break;.        case 1:.            bookloan = 3;.            finerate = 3;.            break;.        case 2:.            bookloan = 10;.            finerate = 5;.            break;.        case 3:.            bookloan = 30;.            finerate = 35;..            break;.    }..    if (daysoverdue &lt;= 0) {.        daysoverdue = 0;.    }..    if (daysoverdue &gt; 0) {.        fine = finerate * daysoverdue;.    } else {.        fine = 0;.    }..    txtdateoverdue.text = daysoverdue + \"\" days overdue\"\";.    txtreturnfine.text = \"\"fine of \"\" + strings.format(fine, \"\"currency\"\") + \"\" to pay\"\";.}\"\n",
    "\n",
    "\n",
    "\n",
    "])\n",
    "\n",
    "predict= export_model.predict(examples)"
   ],
   "id": "3df9cb3256c17502",
   "outputs": [
    {
     "name": "stdout",
     "output_type": "stream",
     "text": [
      "\u001B[1m1/1\u001B[0m \u001B[32m━━━━━━━━━━━━━━━━━━━━\u001B[0m\u001B[37m\u001B[0m \u001B[1m0s\u001B[0m 32ms/step\n"
     ]
    }
   ],
   "execution_count": 144
  },
  {
   "metadata": {
    "ExecuteTime": {
     "end_time": "2024-10-07T06:57:05.906079Z",
     "start_time": "2024-10-07T06:57:05.899014Z"
    }
   },
   "cell_type": "code",
   "source": [
    "class_id = np.argmax(predict, axis=1)\n",
    "pred_class= class_names[class_id[0]]"
   ],
   "id": "87b6fc87e48e2bc2",
   "outputs": [],
   "execution_count": 145
  },
  {
   "metadata": {
    "ExecuteTime": {
     "end_time": "2024-10-07T06:57:06.570146Z",
     "start_time": "2024-10-07T06:57:06.551842Z"
    }
   },
   "cell_type": "code",
   "source": "print(pred_class)",
   "id": "dc06fdbabea2cc97",
   "outputs": [
    {
     "name": "stdout",
     "output_type": "stream",
     "text": [
      "csharp\n"
     ]
    }
   ],
   "execution_count": 146
  },
  {
   "metadata": {},
   "cell_type": "code",
   "outputs": [],
   "execution_count": null,
   "source": "",
   "id": "84a58c32b533d3af"
  }
 ],
 "metadata": {
  "kernelspec": {
   "display_name": "Python 3",
   "language": "python",
   "name": "python3"
  },
  "language_info": {
   "codemirror_mode": {
    "name": "ipython",
    "version": 2
   },
   "file_extension": ".py",
   "mimetype": "text/x-python",
   "name": "python",
   "nbconvert_exporter": "python",
   "pygments_lexer": "ipython2",
   "version": "2.7.6"
  }
 },
 "nbformat": 4,
 "nbformat_minor": 5
}
