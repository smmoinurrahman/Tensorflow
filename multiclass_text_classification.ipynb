{
 "cells": [
  {
   "cell_type": "code",
   "id": "initial_id",
   "metadata": {
    "collapsed": true,
    "ExecuteTime": {
     "end_time": "2024-10-05T16:26:43.658470Z",
     "start_time": "2024-10-05T16:26:35.477666Z"
    }
   },
   "source": [
    "import tensorflow as tf\n",
    "import numpy as np\n",
    "import matplotlib.pyplot as plt\n",
    "from tensorflow.keras.layers import Dense, Dropout, Flatten\n",
    "import os\n",
    "from tensorflow.keras import layers\n",
    "from tensorflow.keras import losses"
   ],
   "outputs": [],
   "execution_count": 1
  },
  {
   "metadata": {
    "ExecuteTime": {
     "end_time": "2024-10-05T16:41:11.630403Z",
     "start_time": "2024-10-05T16:40:48.013057Z"
    }
   },
   "cell_type": "code",
   "source": [
    "url = \"stack_overflow_16k.tar.gz\"\n",
    "dataset = tf.keras.utils.get_file(\n",
    "    'stack_overflow_16k', url, untar = True, cache_dir = '.', cache_subdir = ''\n",
    ")\n",
    "data_dir = os.path.join(os.path.dirname(dataset), 'stackoverflow_dataset')"
   ],
   "id": "e181ae1f76b50946",
   "outputs": [],
   "execution_count": 17
  },
  {
   "metadata": {
    "ExecuteTime": {
     "end_time": "2024-10-05T16:43:56.275270Z",
     "start_time": "2024-10-05T16:43:56.258664Z"
    }
   },
   "cell_type": "code",
   "source": "os.listdir(data_dir)",
   "id": "e99fbb7af0efd33f",
   "outputs": [
    {
     "data": {
      "text/plain": [
       "['README.md', 'test', 'train']"
      ]
     },
     "execution_count": 18,
     "metadata": {},
     "output_type": "execute_result"
    }
   ],
   "execution_count": 18
  },
  {
   "metadata": {
    "ExecuteTime": {
     "end_time": "2024-10-05T16:45:52.167179Z",
     "start_time": "2024-10-05T16:45:52.151027Z"
    }
   },
   "cell_type": "code",
   "source": [
    "train_dir = os.path.join('stackoverflow_dataset', 'train')\n",
    "test_dir = os.path.join('stackoverflow_dataset', 'test')"
   ],
   "id": "207276cfb77a4754",
   "outputs": [],
   "execution_count": 20
  },
  {
   "metadata": {},
   "cell_type": "code",
   "outputs": [
    {
     "data": {
      "text/plain": [
       "['csharp', 'java', 'javascript', 'python']"
      ]
     },
     "execution_count": 21,
     "metadata": {},
     "output_type": "execute_result"
    }
   ],
   "execution_count": 21,
   "source": "os.listdir(train_dir)",
   "id": "314f1a8b5ddf6d40"
  },
  {
   "metadata": {},
   "cell_type": "code",
   "outputs": [
    {
     "name": "stdout",
     "output_type": "stream",
     "text": [
      "\"how to pause loop while time is ticking i have made a timer where i can set time i want to wait and then do something..so this is my short timer func:..private void sleep(int interval, action action).{.    system.windows.forms.timer mytimer = new system.windows.forms.timer();.    mytimer.interval = interval; //interval is in ms   .    mytimer.start();.    mytimer.tick += (s, e) =&gt;.    {.        action();.        mytimer.stop();.    };.}...and im using this timer in loop:..foreach (string word in words).{.   sleep(5000, ()=&gt; myaction());                                           .}...without loop timer is great but in loop it wont work because loop wont stop and wait for those 5secs. it do all stuff imediately and starts timer again and again too fast...so what im trying to find out is how to make my loop wait until time runs out and myaction() is executed. im working on forms application so all threadin sleeps wont work here. also i tried all other timers but they used too much cpu.\"\n",
      "\n"
     ]
    }
   ],
   "execution_count": 23,
   "source": [
    "sample_file = os.path.join(train_dir, 'csharp/0.txt')\n",
    "with open(sample_file) as f:\n",
    "    print(f.read())"
   ],
   "id": "36e1607326ed8404"
  },
  {
   "metadata": {
    "ExecuteTime": {
     "end_time": "2024-10-05T17:01:28.534062Z",
     "start_time": "2024-10-05T17:01:27.618100Z"
    }
   },
   "cell_type": "code",
   "source": [
    "batch_size = 32\n",
    "seed = 42\n",
    "raw_train_ds =tf.keras.utils.text_dataset_from_directory(\n",
    "    train_dir,\n",
    "    batch_size=batch_size,\n",
    "    seed=seed,\n",
    "    validation_split = 0.2,\n",
    "    subset = 'training'\n",
    ")"
   ],
   "id": "fdb585754c0e9bc5",
   "outputs": [
    {
     "name": "stdout",
     "output_type": "stream",
     "text": [
      "Found 8000 files belonging to 4 classes.\n",
      "Using 6400 files for training.\n"
     ]
    }
   ],
   "execution_count": 26
  },
  {
   "metadata": {
    "ExecuteTime": {
     "end_time": "2024-10-05T17:03:01.935513Z",
     "start_time": "2024-10-05T17:03:01.899685Z"
    }
   },
   "cell_type": "code",
   "source": "class_names = raw_test_ds.class_names",
   "id": "7fbda2d3c0aa18de",
   "outputs": [
    {
     "ename": "AttributeError",
     "evalue": "'str' object has no attribute 'class_names'",
     "output_type": "error",
     "traceback": [
      "\u001B[1;31m---------------------------------------------------------------------------\u001B[0m",
      "\u001B[1;31mAttributeError\u001B[0m                            Traceback (most recent call last)",
      "Cell \u001B[1;32mIn[29], line 1\u001B[0m\n\u001B[1;32m----> 1\u001B[0m class_names \u001B[38;5;241m=\u001B[39m \u001B[43mraw_test_ds\u001B[49m\u001B[38;5;241;43m.\u001B[39;49m\u001B[43mclass_names\u001B[49m\n",
      "\u001B[1;31mAttributeError\u001B[0m: 'str' object has no attribute 'class_names'"
     ]
    }
   ],
   "execution_count": 29
  },
  {
   "metadata": {},
   "cell_type": "code",
   "outputs": [],
   "execution_count": null,
   "source": "",
   "id": "5d6b2afa5a596e2"
  }
 ],
 "metadata": {
  "kernelspec": {
   "display_name": "Python 3",
   "language": "python",
   "name": "python3"
  },
  "language_info": {
   "codemirror_mode": {
    "name": "ipython",
    "version": 2
   },
   "file_extension": ".py",
   "mimetype": "text/x-python",
   "name": "python",
   "nbconvert_exporter": "python",
   "pygments_lexer": "ipython2",
   "version": "2.7.6"
  }
 },
 "nbformat": 4,
 "nbformat_minor": 5
}
