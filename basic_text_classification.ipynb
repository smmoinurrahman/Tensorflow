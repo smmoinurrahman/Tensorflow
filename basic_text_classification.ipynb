{
 "cells": [
  {
   "metadata": {},
   "cell_type": "markdown",
   "source": [
    "# Sentiment analysis\n",
    "# binary calssifiation"
   ],
   "id": "61cad700ed303343"
  },
  {
   "metadata": {
    "ExecuteTime": {
     "end_time": "2024-10-07T06:39:37.999545Z",
     "start_time": "2024-10-07T06:39:31.334353Z"
    }
   },
   "cell_type": "code",
   "source": [
    "import shutil\n",
    "\n",
    "import matplotlib.pyplot as plt\n",
    "import os\n",
    "import re\n",
    "import string\n",
    "import tensorflow as tf\n",
    "from tensorflow.keras import layers\n",
    "from tensorflow.keras import losses\n",
    "from webencodings import labels"
   ],
   "id": "initial_id",
   "outputs": [],
   "execution_count": 1
  },
  {
   "metadata": {
    "ExecuteTime": {
     "end_time": "2024-10-07T06:40:27.231336Z",
     "start_time": "2024-10-07T06:39:37.999545Z"
    }
   },
   "cell_type": "code",
   "source": [
    "url = \"https://ai.stanford.edu/~amaas/data/sentiment/aclImdb_v1.tar.gz\"\n",
    "dataset = tf.keras.utils.get_file(\n",
    "    \"aclImdb_v1\", url, extract=True, cache_dir= '.',\n",
    "    cache_subdir = '')"
   ],
   "id": "8274a8f6b057b422",
   "outputs": [],
   "execution_count": 2
  },
  {
   "metadata": {
    "ExecuteTime": {
     "end_time": "2024-10-07T06:40:27.242154Z",
     "start_time": "2024-10-07T06:40:27.231336Z"
    }
   },
   "cell_type": "code",
   "source": [
    "dataset_dir = os.path.join(os.path.dirname(dataset), 'aclImdb')\n",
    "os.listdir(dataset_dir)"
   ],
   "id": "93e85cba824edea0",
   "outputs": [
    {
     "data": {
      "text/plain": [
       "['imdb.vocab', 'imdbEr.txt', 'README', 'test', 'train']"
      ]
     },
     "execution_count": 3,
     "metadata": {},
     "output_type": "execute_result"
    }
   ],
   "execution_count": 3
  },
  {
   "metadata": {
    "ExecuteTime": {
     "end_time": "2024-10-07T06:40:27.254926Z",
     "start_time": "2024-10-07T06:40:27.243150Z"
    }
   },
   "cell_type": "code",
   "source": [
    "train_dir = os.path.join(dataset_dir, 'train')\n",
    "os.listdir(train_dir)"
   ],
   "id": "79f0317d29d4d594",
   "outputs": [
    {
     "data": {
      "text/plain": [
       "['labeledBow.feat',\n",
       " 'neg',\n",
       " 'pos',\n",
       " 'unsup',\n",
       " 'unsupBow.feat',\n",
       " 'urls_neg.txt',\n",
       " 'urls_pos.txt',\n",
       " 'urls_unsup.txt']"
      ]
     },
     "execution_count": 4,
     "metadata": {},
     "output_type": "execute_result"
    }
   ],
   "execution_count": 4
  },
  {
   "metadata": {
    "ExecuteTime": {
     "end_time": "2024-10-07T06:40:27.277984Z",
     "start_time": "2024-10-07T06:40:27.254926Z"
    }
   },
   "cell_type": "code",
   "source": [
    "sample_file = os.path.join(train_dir, 'pos/1181_9.txt')\n",
    "with open(sample_file) as f:\n",
    "    print(f.read())"
   ],
   "id": "4a2bd5fa23497971",
   "outputs": [
    {
     "name": "stdout",
     "output_type": "stream",
     "text": [
      "Rachel Griffiths writes and directs this award winning short film. A heartwarming story about coping with grief and cherishing the memory of those we've loved and lost. Although, only 15 minutes long, Griffiths manages to capture so much emotion and truth onto film in the short space of time. Bud Tingwell gives a touching performance as Will, a widower struggling to cope with his wife's death. Will is confronted by the harsh reality of loneliness and helplessness as he proceeds to take care of Ruth's pet cow, Tulip. The film displays the grief and responsibility one feels for those they have loved and lost. Good cinematography, great direction, and superbly acted. It will bring tears to all those who have lost a loved one, and survived.\n"
     ]
    }
   ],
   "execution_count": 5
  },
  {
   "metadata": {
    "ExecuteTime": {
     "end_time": "2024-10-07T06:40:32.050308Z",
     "start_time": "2024-10-07T06:40:27.277984Z"
    }
   },
   "cell_type": "code",
   "source": [
    "#load dataset\n",
    "remove_dir = os.path.join(train_dir, 'unsup')\n",
    "shutil.rmtree(remove_dir)"
   ],
   "id": "e75be6fea680e7c1",
   "outputs": [],
   "execution_count": 6
  },
  {
   "metadata": {
    "ExecuteTime": {
     "end_time": "2024-10-07T06:40:33.202483Z",
     "start_time": "2024-10-07T06:40:32.050308Z"
    }
   },
   "cell_type": "code",
   "source": [
    "batch_size = 32\n",
    "seed = 42\n",
    "\n",
    "raw_train_ds =tf.keras.utils.text_dataset_from_directory(\n",
    "    'aclImdb/train',\n",
    "    batch_size=batch_size,\n",
    "    validation_split=0.2,\n",
    "    subset='training',\n",
    "    seed=seed\n",
    ")"
   ],
   "id": "733e8087fcf346df",
   "outputs": [
    {
     "name": "stdout",
     "output_type": "stream",
     "text": [
      "Found 25000 files belonging to 2 classes.\n",
      "Using 20000 files for training.\n"
     ]
    }
   ],
   "execution_count": 7
  },
  {
   "metadata": {
    "ExecuteTime": {
     "end_time": "2024-10-07T06:40:33.322356Z",
     "start_time": "2024-10-07T06:40:33.202483Z"
    }
   },
   "cell_type": "code",
   "source": [
    "for text_batch, label_batch in raw_train_ds.take(1):\n",
    "    for i in range(3):\n",
    "        print(\"review\", text_batch.numpy()[i])\n",
    "        print(\"label\", label_batch.numpy()[i])"
   ],
   "id": "4d93af67e837bb20",
   "outputs": [
    {
     "name": "stdout",
     "output_type": "stream",
     "text": [
      "review b'\"Pandemonium\" is a horror movie spoof that comes off more stupid than funny. Believe me when I tell you, I love comedies. Especially comedy spoofs. \"Airplane\", \"The Naked Gun\" trilogy, \"Blazing Saddles\", \"High Anxiety\", and \"Spaceballs\" are some of my favorite comedies that spoof a particular genre. \"Pandemonium\" is not up there with those films. Most of the scenes in this movie had me sitting there in stunned silence because the movie wasn\\'t all that funny. There are a few laughs in the film, but when you watch a comedy, you expect to laugh a lot more than a few times and that\\'s all this film has going for it. Geez, \"Scream\" had more laughs than this film and that was more of a horror film. How bizarre is that?<br /><br />*1/2 (out of four)'\n",
      "label 0\n",
      "review b\"David Mamet is a very interesting and a very un-equal director. His first movie 'House of Games' was the one I liked best, and it set a series of films with characters whose perspective of life changes as they get into complicated situations, and so does the perspective of the viewer.<br /><br />So is 'Homicide' which from the title tries to set the mind of the viewer to the usual crime drama. The principal characters are two cops, one Jewish and one Irish who deal with a racially charged area. The murder of an old Jewish shop owner who proves to be an ancient veteran of the Israeli Independence war triggers the Jewish identity in the mind and heart of the Jewish detective.<br /><br />This is were the flaws of the film are the more obvious. The process of awakening is theatrical and hard to believe, the group of Jewish militants is operatic, and the way the detective eventually walks to the final violent confrontation is pathetic. The end of the film itself is Mamet-like smart, but disappoints from a human emotional perspective.<br /><br />Joe Mantegna and William Macy give strong performances, but the flaws of the story are too evident to be easily compensated.\"\n",
      "label 0\n",
      "review b'Great documentary about the lives of NY firefighters during the worst terrorist attack of all time.. That reason alone is why this should be a must see collectors item.. What shocked me was not only the attacks, but the\"High Fat Diet\" and physical appearance of some of these firefighters. I think a lot of Doctors would agree with me that,in the physical shape they were in, some of these firefighters would NOT of made it to the 79th floor carrying over 60 lbs of gear. Having said that i now have a greater respect for firefighters and i realize becoming a firefighter is a life altering job. The French have a history of making great documentary\\'s and that is what this is, a Great Documentary.....'\n",
      "label 1\n"
     ]
    }
   ],
   "execution_count": 8
  },
  {
   "metadata": {
    "ExecuteTime": {
     "end_time": "2024-10-07T07:11:32.916396Z",
     "start_time": "2024-10-07T07:11:32.909103Z"
    }
   },
   "cell_type": "code",
   "source": [
    "class_names= raw_train_ds.class_names\n",
    "print(class_names)"
   ],
   "id": "5f4899650aec6aa9",
   "outputs": [
    {
     "name": "stdout",
     "output_type": "stream",
     "text": [
      "['neg', 'pos']\n"
     ]
    }
   ],
   "execution_count": 132
  },
  {
   "metadata": {
    "ExecuteTime": {
     "end_time": "2024-10-07T06:40:34.266055Z",
     "start_time": "2024-10-07T06:40:33.328781Z"
    }
   },
   "cell_type": "code",
   "source": [
    "raw_valid_ds = tf.keras.utils.text_dataset_from_directory(\n",
    "    'aclImdb/train',\n",
    "    batch_size=batch_size,\n",
    "    validation_split=0.2,\n",
    "    subset='validation',\n",
    "    seed=seed\n",
    ")"
   ],
   "id": "13581fcc200ddc97",
   "outputs": [
    {
     "name": "stdout",
     "output_type": "stream",
     "text": [
      "Found 25000 files belonging to 2 classes.\n",
      "Using 5000 files for validation.\n"
     ]
    }
   ],
   "execution_count": 10
  },
  {
   "metadata": {
    "ExecuteTime": {
     "end_time": "2024-10-07T06:40:35.431913Z",
     "start_time": "2024-10-07T06:40:34.266055Z"
    }
   },
   "cell_type": "code",
   "source": [
    "raw_test_ds = tf.keras.utils.text_dataset_from_directory(\n",
    "    'aclImdb/test',\n",
    "    batch_size=batch_size,\n",
    ")"
   ],
   "id": "afc091625c782d69",
   "outputs": [
    {
     "name": "stdout",
     "output_type": "stream",
     "text": [
      "Found 25000 files belonging to 2 classes.\n"
     ]
    }
   ],
   "execution_count": 11
  },
  {
   "metadata": {},
   "cell_type": "markdown",
   "source": [
    "prepare dataset for training\n",
    "\n",
    "Standardize, Tokenize and vectorize"
   ],
   "id": "62e14c3dfc9a86ee"
  },
  {
   "metadata": {
    "ExecuteTime": {
     "end_time": "2024-10-07T06:40:35.437432Z",
     "start_time": "2024-10-07T06:40:35.431913Z"
    }
   },
   "cell_type": "code",
   "source": [
    "def custom_standardization(input_data):\n",
    "    lowercase = tf.strings.lower(input_data)\n",
    "    tripped_html = tf.strings.regex_replace(lowercase, '<br />', '')\n",
    "    return tf.strings.regex_replace(tripped_html, '[%s]' % re.escape(string.punctuation), '')"
   ],
   "id": "f976dd311a06e7c2",
   "outputs": [],
   "execution_count": 12
  },
  {
   "metadata": {
    "ExecuteTime": {
     "end_time": "2024-10-07T07:02:48.601350Z",
     "start_time": "2024-10-07T07:02:48.565522Z"
    }
   },
   "cell_type": "code",
   "source": [
    "max_features = 10000\n",
    "sequence_length = 250\n",
    "vectorized_layer = layers.TextVectorization(\n",
    "    standardize = custom_standardization,\n",
    "    max_tokens = max_features,\n",
    "    output_mode='int',\n",
    "    output_sequence_length=sequence_length,\n",
    ")"
   ],
   "id": "2f58ffcb10dead9a",
   "outputs": [],
   "execution_count": 106
  },
  {
   "metadata": {
    "ExecuteTime": {
     "end_time": "2024-10-07T07:03:19.049564Z",
     "start_time": "2024-10-07T07:02:49.986980Z"
    }
   },
   "cell_type": "code",
   "source": [
    "train_text = raw_train_ds.map(lambda x, y:x)\n",
    "vectorized_layer.adapt(train_text)"
   ],
   "id": "31366ff41cf37242",
   "outputs": [],
   "execution_count": 107
  },
  {
   "metadata": {
    "ExecuteTime": {
     "end_time": "2024-10-07T06:41:07.389141Z",
     "start_time": "2024-10-07T06:41:07.384769Z"
    }
   },
   "cell_type": "code",
   "source": [
    "# create a function to see the result of using this layer to preprocess some data\n",
    "def vectorize_text(text, label):\n",
    "    text = tf.expand_dims(text, -1)\n",
    "    return vectorized_layer(text),label"
   ],
   "id": "70f8732f2684d3c3",
   "outputs": [],
   "execution_count": 15
  },
  {
   "metadata": {
    "ExecuteTime": {
     "end_time": "2024-10-07T06:41:07.458183Z",
     "start_time": "2024-10-07T06:41:07.389141Z"
    }
   },
   "cell_type": "code",
   "source": [
    "text_batch, label_batch = next(iter(raw_train_ds))\n",
    "first_review, first_label = text_batch[0], label_batch[0]\n",
    "print('Review', first_review)\n",
    "print(\"Label\", first_label)\n",
    "print(\"Vectorized Review\", vectorize_text(first_review, first_label))\n"
   ],
   "id": "9086fb9fb9310311",
   "outputs": [
    {
     "name": "stdout",
     "output_type": "stream",
     "text": [
      "Review tf.Tensor(b'Silent Night, Deadly Night 5 is the very last of the series, and like part 4, it\\'s unrelated to the first three except by title and the fact that it\\'s a Christmas-themed horror flick.<br /><br />Except to the oblivious, there\\'s some obvious things going on here...Mickey Rooney plays a toymaker named Joe Petto and his creepy son\\'s name is Pino. Ring a bell, anyone? Now, a little boy named Derek heard a knock at the door one evening, and opened it to find a present on the doorstep for him. Even though it said \"don\\'t open till Christmas\", he begins to open it anyway but is stopped by his dad, who scolds him and sends him to bed, and opens the gift himself. Inside is a little red ball that sprouts Santa arms and a head, and proceeds to kill dad. Oops, maybe he should have left well-enough alone. Of course Derek is then traumatized by the incident since he watched it from the stairs, but he doesn\\'t grow up to be some killer Santa, he just stops talking.<br /><br />There\\'s a mysterious stranger lurking around, who seems very interested in the toys that Joe Petto makes. We even see him buying a bunch when Derek\\'s mom takes him to the store to find a gift for him to bring him out of his trauma. And what exactly is this guy doing? Well, we\\'re not sure but he does seem to be taking these toys apart to see what makes them tick. He does keep his landlord from evicting him by promising him to pay him in cash the next day and presents him with a \"Larry the Larvae\" toy for his kid, but of course \"Larry\" is not a good toy and gets out of the box in the car and of course, well, things aren\\'t pretty.<br /><br />Anyway, eventually what\\'s going on with Joe Petto and Pino is of course revealed, and as with the old story, Pino is not a \"real boy\". Pino is probably even more agitated and naughty because he suffers from \"Kenitalia\" (a smooth plastic crotch) so that could account for his evil ways. And the identity of the lurking stranger is revealed too, and there\\'s even kind of a happy ending of sorts. Whee.<br /><br />A step up from part 4, but not much of one. Again, Brian Yuzna is involved, and Screaming Mad George, so some decent special effects, but not enough to make this great. A few leftovers from part 4 are hanging around too, like Clint Howard and Neith Hunter, but that doesn\\'t really make any difference. Anyway, I now have seeing the whole series out of my system. Now if I could get some of it out of my brain. 4 out of 5.', shape=(), dtype=string)\n",
      "Label tf.Tensor(0, shape=(), dtype=int32)\n",
      "Vectorized Review (<tf.Tensor: shape=(1, 250), dtype=int64, numpy=\n",
      "array([[1270,  312, 2355,  312,  682,    7,    2,   51,  227,    5,    2,\n",
      "         203,    3,   37,  170,  725,   29, 5496,    6,    2,   86,  295,\n",
      "         541,   32,  427,    3,    2,  185,   12,   29,    4,    1,  191,\n",
      "           1,    6,    2, 8333,  221,   46,  573,  176,  167,   20,    1,\n",
      "        5434,  284,    4,    1,  752,  965,    1,    3,   24,  931, 2275,\n",
      "         396,    7,    1, 1655,    4, 3734,  252,  157,    4,  110,  437,\n",
      "         752, 3561,  538,    4, 3648,   30,    2, 1347,   28, 2121,    3,\n",
      "        2877,    9,    6,  160,    4,  998,   20,    2,    1,   15,   88,\n",
      "          54,  149,    9,  290,   89,  960, 2273,  983,   27,  766,    6,\n",
      "         960,    9,  687,   18,    7, 2138,   32,   24, 1265,   36,    1,\n",
      "          88,    3, 3249,   88,    6, 1411,    3, 1897,    2, 3365,  301,\n",
      "         969,    7,    4,  110,  744, 1965,   12,    1, 1995, 2830,    3,\n",
      "           4,  424,    3, 5102,    6,  501, 1265,    1,  280,   27,  138,\n",
      "          25,  304,    1,  594,    5,  258, 3561,    7,   94, 8887,   32,\n",
      "           2, 3823,  233,   27,  281,    9,   35,    2, 5895,   18,   27,\n",
      "         143, 2120,   55,    6,   26,   46,  459, 1995,   27,   40, 2717,\n",
      "           1,    4, 1364, 2960, 6995,  183,   36,  180,   51,  909,    8,\n",
      "           2, 3978,   12,  965,    1,  155,   71,   54,   68,   88, 2711,\n",
      "           4,  727,   52,    1, 1587,  289,   88,    6,    2, 1160,    6,\n",
      "         160,    4, 3365,   15,   88,    6,  705,   88,   44,    5,   24,\n",
      "        7206,    3,   47,  590,    7,   10,  225,  381,   76,   65,   21,\n",
      "         243,   18,   27,  119,  292,    6,   26,  662,  128, 3978,  978,\n",
      "           6,   68,   47,  155,   98,    1,   27,  119]], dtype=int64)>, <tf.Tensor: shape=(), dtype=int32, numpy=0>)\n"
     ]
    }
   ],
   "execution_count": 16
  },
  {
   "metadata": {
    "ExecuteTime": {
     "end_time": "2024-10-07T06:41:07.518546Z",
     "start_time": "2024-10-07T06:41:07.458183Z"
    }
   },
   "cell_type": "code",
   "source": [
    "print(\"1287 ---> \",vectorized_layer.get_vocabulary()[166])\n",
    "print(\" 313 ---> \",vectorized_layer.get_vocabulary()[291])\n",
    "print('Vocabulary size: {}'.format(len(vectorized_layer.get_vocabulary())))"
   ],
   "id": "2948e8284e4fa2aa",
   "outputs": [
    {
     "name": "stdout",
     "output_type": "stream",
     "text": [
      "1287 --->  every\n",
      " 313 --->  together\n",
      "Vocabulary size: 10000\n"
     ]
    }
   ],
   "execution_count": 17
  },
  {
   "metadata": {
    "ExecuteTime": {
     "end_time": "2024-10-07T06:41:07.696745Z",
     "start_time": "2024-10-07T06:41:07.518546Z"
    }
   },
   "cell_type": "code",
   "source": [
    "train_ds = raw_train_ds.map(vectorize_text)\n",
    "val_ds = raw_valid_ds.map(vectorize_text)\n",
    "test_ds = raw_test_ds.map(vectorize_text)"
   ],
   "id": "44aa0db333a90e00",
   "outputs": [],
   "execution_count": 18
  },
  {
   "metadata": {
    "ExecuteTime": {
     "end_time": "2024-10-07T06:41:07.716128Z",
     "start_time": "2024-10-07T06:41:07.696745Z"
    }
   },
   "cell_type": "code",
   "source": [
    "AUTOTUNE = tf.data.AUTOTUNE\n",
    "train_ds = train_ds.cache().prefetch(buffer_size=AUTOTUNE)\n",
    "val_ds = val_ds.cache().prefetch(buffer_size=AUTOTUNE)\n",
    "test_ds = test_ds.cache().prefetch(buffer_size=AUTOTUNE)"
   ],
   "id": "f8c74dbe4c080482",
   "outputs": [],
   "execution_count": 19
  },
  {
   "metadata": {
    "ExecuteTime": {
     "end_time": "2024-10-07T06:41:07.721249Z",
     "start_time": "2024-10-07T06:41:07.716128Z"
    }
   },
   "cell_type": "code",
   "source": "embedding_dim = 16",
   "id": "4b1b823019b6e3b5",
   "outputs": [],
   "execution_count": 20
  },
  {
   "metadata": {
    "ExecuteTime": {
     "end_time": "2024-10-07T06:49:07.673722Z",
     "start_time": "2024-10-07T06:49:07.630116Z"
    }
   },
   "cell_type": "code",
   "source": [
    "model = tf.keras.Sequential([\n",
    "    layers.Embedding(max_features, embedding_dim),\n",
    "    layers.Dropout(0.2),\n",
    "    layers.GlobalAveragePooling1D(),\n",
    "    layers.Dropout(0.2),\n",
    "    layers.Dense(1, activation='sigmoid')\n",
    "])\n",
    "model.summary()"
   ],
   "id": "5ed6690487a755fd",
   "outputs": [
    {
     "data": {
      "text/plain": [
       "\u001B[1mModel: \"sequential_3\"\u001B[0m\n"
      ],
      "text/html": [
       "<pre style=\"white-space:pre;overflow-x:auto;line-height:normal;font-family:Menlo,'DejaVu Sans Mono',consolas,'Courier New',monospace\"><span style=\"font-weight: bold\">Model: \"sequential_3\"</span>\n",
       "</pre>\n"
      ]
     },
     "metadata": {},
     "output_type": "display_data"
    },
    {
     "data": {
      "text/plain": [
       "┏━━━━━━━━━━━━━━━━━━━━━━━━━━━━━━━━━┳━━━━━━━━━━━━━━━━━━━━━━━━┳━━━━━━━━━━━━━━━┓\n",
       "┃\u001B[1m \u001B[0m\u001B[1mLayer (type)                   \u001B[0m\u001B[1m \u001B[0m┃\u001B[1m \u001B[0m\u001B[1mOutput Shape          \u001B[0m\u001B[1m \u001B[0m┃\u001B[1m \u001B[0m\u001B[1m      Param #\u001B[0m\u001B[1m \u001B[0m┃\n",
       "┡━━━━━━━━━━━━━━━━━━━━━━━━━━━━━━━━━╇━━━━━━━━━━━━━━━━━━━━━━━━╇━━━━━━━━━━━━━━━┩\n",
       "│ embedding_2 (\u001B[38;5;33mEmbedding\u001B[0m)         │ ?                      │   \u001B[38;5;34m0\u001B[0m (unbuilt) │\n",
       "├─────────────────────────────────┼────────────────────────┼───────────────┤\n",
       "│ dropout_4 (\u001B[38;5;33mDropout\u001B[0m)             │ ?                      │   \u001B[38;5;34m0\u001B[0m (unbuilt) │\n",
       "├─────────────────────────────────┼────────────────────────┼───────────────┤\n",
       "│ global_average_pooling1d_2      │ ?                      │   \u001B[38;5;34m0\u001B[0m (unbuilt) │\n",
       "│ (\u001B[38;5;33mGlobalAveragePooling1D\u001B[0m)        │                        │               │\n",
       "├─────────────────────────────────┼────────────────────────┼───────────────┤\n",
       "│ dropout_5 (\u001B[38;5;33mDropout\u001B[0m)             │ ?                      │   \u001B[38;5;34m0\u001B[0m (unbuilt) │\n",
       "├─────────────────────────────────┼────────────────────────┼───────────────┤\n",
       "│ dense_2 (\u001B[38;5;33mDense\u001B[0m)                 │ ?                      │   \u001B[38;5;34m0\u001B[0m (unbuilt) │\n",
       "└─────────────────────────────────┴────────────────────────┴───────────────┘\n"
      ],
      "text/html": [
       "<pre style=\"white-space:pre;overflow-x:auto;line-height:normal;font-family:Menlo,'DejaVu Sans Mono',consolas,'Courier New',monospace\">┏━━━━━━━━━━━━━━━━━━━━━━━━━━━━━━━━━┳━━━━━━━━━━━━━━━━━━━━━━━━┳━━━━━━━━━━━━━━━┓\n",
       "┃<span style=\"font-weight: bold\"> Layer (type)                    </span>┃<span style=\"font-weight: bold\"> Output Shape           </span>┃<span style=\"font-weight: bold\">       Param # </span>┃\n",
       "┡━━━━━━━━━━━━━━━━━━━━━━━━━━━━━━━━━╇━━━━━━━━━━━━━━━━━━━━━━━━╇━━━━━━━━━━━━━━━┩\n",
       "│ embedding_2 (<span style=\"color: #0087ff; text-decoration-color: #0087ff\">Embedding</span>)         │ ?                      │   <span style=\"color: #00af00; text-decoration-color: #00af00\">0</span> (unbuilt) │\n",
       "├─────────────────────────────────┼────────────────────────┼───────────────┤\n",
       "│ dropout_4 (<span style=\"color: #0087ff; text-decoration-color: #0087ff\">Dropout</span>)             │ ?                      │   <span style=\"color: #00af00; text-decoration-color: #00af00\">0</span> (unbuilt) │\n",
       "├─────────────────────────────────┼────────────────────────┼───────────────┤\n",
       "│ global_average_pooling1d_2      │ ?                      │   <span style=\"color: #00af00; text-decoration-color: #00af00\">0</span> (unbuilt) │\n",
       "│ (<span style=\"color: #0087ff; text-decoration-color: #0087ff\">GlobalAveragePooling1D</span>)        │                        │               │\n",
       "├─────────────────────────────────┼────────────────────────┼───────────────┤\n",
       "│ dropout_5 (<span style=\"color: #0087ff; text-decoration-color: #0087ff\">Dropout</span>)             │ ?                      │   <span style=\"color: #00af00; text-decoration-color: #00af00\">0</span> (unbuilt) │\n",
       "├─────────────────────────────────┼────────────────────────┼───────────────┤\n",
       "│ dense_2 (<span style=\"color: #0087ff; text-decoration-color: #0087ff\">Dense</span>)                 │ ?                      │   <span style=\"color: #00af00; text-decoration-color: #00af00\">0</span> (unbuilt) │\n",
       "└─────────────────────────────────┴────────────────────────┴───────────────┘\n",
       "</pre>\n"
      ]
     },
     "metadata": {},
     "output_type": "display_data"
    },
    {
     "data": {
      "text/plain": [
       "\u001B[1m Total params: \u001B[0m\u001B[38;5;34m0\u001B[0m (0.00 B)\n"
      ],
      "text/html": [
       "<pre style=\"white-space:pre;overflow-x:auto;line-height:normal;font-family:Menlo,'DejaVu Sans Mono',consolas,'Courier New',monospace\"><span style=\"font-weight: bold\"> Total params: </span><span style=\"color: #00af00; text-decoration-color: #00af00\">0</span> (0.00 B)\n",
       "</pre>\n"
      ]
     },
     "metadata": {},
     "output_type": "display_data"
    },
    {
     "data": {
      "text/plain": [
       "\u001B[1m Trainable params: \u001B[0m\u001B[38;5;34m0\u001B[0m (0.00 B)\n"
      ],
      "text/html": [
       "<pre style=\"white-space:pre;overflow-x:auto;line-height:normal;font-family:Menlo,'DejaVu Sans Mono',consolas,'Courier New',monospace\"><span style=\"font-weight: bold\"> Trainable params: </span><span style=\"color: #00af00; text-decoration-color: #00af00\">0</span> (0.00 B)\n",
       "</pre>\n"
      ]
     },
     "metadata": {},
     "output_type": "display_data"
    },
    {
     "data": {
      "text/plain": [
       "\u001B[1m Non-trainable params: \u001B[0m\u001B[38;5;34m0\u001B[0m (0.00 B)\n"
      ],
      "text/html": [
       "<pre style=\"white-space:pre;overflow-x:auto;line-height:normal;font-family:Menlo,'DejaVu Sans Mono',consolas,'Courier New',monospace\"><span style=\"font-weight: bold\"> Non-trainable params: </span><span style=\"color: #00af00; text-decoration-color: #00af00\">0</span> (0.00 B)\n",
       "</pre>\n"
      ]
     },
     "metadata": {},
     "output_type": "display_data"
    }
   ],
   "execution_count": 59
  },
  {
   "metadata": {
    "ExecuteTime": {
     "end_time": "2024-10-07T06:49:08.076683Z",
     "start_time": "2024-10-07T06:49:08.062232Z"
    }
   },
   "cell_type": "code",
   "source": "model.compile(loss=losses.BinaryCrossentropy(), optimizer='adam', metrics=[tf.metrics.BinaryAccuracy(threshold=0.5)])",
   "id": "654e7a070fbe8654",
   "outputs": [],
   "execution_count": 60
  },
  {
   "metadata": {
    "ExecuteTime": {
     "end_time": "2024-10-07T06:49:38.060956Z",
     "start_time": "2024-10-07T06:49:20.723464Z"
    }
   },
   "cell_type": "code",
   "source": [
    "epochs = 10\n",
    "history = model.fit(train_ds, validation_data=val_ds, epochs=epochs)"
   ],
   "id": "1ab15d0228d44d74",
   "outputs": [
    {
     "name": "stdout",
     "output_type": "stream",
     "text": [
      "Epoch 1/10\n",
      "\u001B[1m625/625\u001B[0m \u001B[32m━━━━━━━━━━━━━━━━━━━━\u001B[0m\u001B[37m\u001B[0m \u001B[1m3s\u001B[0m 3ms/step - binary_accuracy: 0.5844 - loss: 0.6801 - val_binary_accuracy: 0.7452 - val_loss: 0.6093\n",
      "Epoch 2/10\n",
      "\u001B[1m625/625\u001B[0m \u001B[32m━━━━━━━━━━━━━━━━━━━━\u001B[0m\u001B[37m\u001B[0m \u001B[1m2s\u001B[0m 3ms/step - binary_accuracy: 0.7596 - loss: 0.5766 - val_binary_accuracy: 0.8102 - val_loss: 0.4984\n",
      "Epoch 3/10\n",
      "\u001B[1m625/625\u001B[0m \u001B[32m━━━━━━━━━━━━━━━━━━━━\u001B[0m\u001B[37m\u001B[0m \u001B[1m2s\u001B[0m 2ms/step - binary_accuracy: 0.8226 - loss: 0.4668 - val_binary_accuracy: 0.8296 - val_loss: 0.4297\n",
      "Epoch 4/10\n",
      "\u001B[1m625/625\u001B[0m \u001B[32m━━━━━━━━━━━━━━━━━━━━\u001B[0m\u001B[37m\u001B[0m \u001B[1m2s\u001B[0m 3ms/step - binary_accuracy: 0.8483 - loss: 0.3972 - val_binary_accuracy: 0.8324 - val_loss: 0.3951\n",
      "Epoch 5/10\n",
      "\u001B[1m625/625\u001B[0m \u001B[32m━━━━━━━━━━━━━━━━━━━━\u001B[0m\u001B[37m\u001B[0m \u001B[1m2s\u001B[0m 3ms/step - binary_accuracy: 0.8676 - loss: 0.3518 - val_binary_accuracy: 0.8432 - val_loss: 0.3666\n",
      "Epoch 6/10\n",
      "\u001B[1m625/625\u001B[0m \u001B[32m━━━━━━━━━━━━━━━━━━━━\u001B[0m\u001B[37m\u001B[0m \u001B[1m2s\u001B[0m 3ms/step - binary_accuracy: 0.8787 - loss: 0.3195 - val_binary_accuracy: 0.8486 - val_loss: 0.3485\n",
      "Epoch 7/10\n",
      "\u001B[1m625/625\u001B[0m \u001B[32m━━━━━━━━━━━━━━━━━━━━\u001B[0m\u001B[37m\u001B[0m \u001B[1m2s\u001B[0m 3ms/step - binary_accuracy: 0.8899 - loss: 0.2944 - val_binary_accuracy: 0.8454 - val_loss: 0.3433\n",
      "Epoch 8/10\n",
      "\u001B[1m625/625\u001B[0m \u001B[32m━━━━━━━━━━━━━━━━━━━━\u001B[0m\u001B[37m\u001B[0m \u001B[1m1s\u001B[0m 2ms/step - binary_accuracy: 0.8984 - loss: 0.2740 - val_binary_accuracy: 0.8500 - val_loss: 0.3329\n",
      "Epoch 9/10\n",
      "\u001B[1m625/625\u001B[0m \u001B[32m━━━━━━━━━━━━━━━━━━━━\u001B[0m\u001B[37m\u001B[0m \u001B[1m2s\u001B[0m 2ms/step - binary_accuracy: 0.9042 - loss: 0.2567 - val_binary_accuracy: 0.8584 - val_loss: 0.3201\n",
      "Epoch 10/10\n",
      "\u001B[1m625/625\u001B[0m \u001B[32m━━━━━━━━━━━━━━━━━━━━\u001B[0m\u001B[37m\u001B[0m \u001B[1m2s\u001B[0m 2ms/step - binary_accuracy: 0.9098 - loss: 0.2435 - val_binary_accuracy: 0.8562 - val_loss: 0.3211\n"
     ]
    }
   ],
   "execution_count": 62
  },
  {
   "metadata": {
    "ExecuteTime": {
     "end_time": "2024-10-07T06:49:46.548284Z",
     "start_time": "2024-10-07T06:49:45.921769Z"
    }
   },
   "cell_type": "code",
   "source": [
    "loss, accuracy = model.evaluate(test_ds)\n",
    "\n",
    "print(\"Loss: \", loss)\n",
    "print(\"Accuracy: \", accuracy)"
   ],
   "id": "b04c6ac3b0d8bacd",
   "outputs": [
    {
     "name": "stdout",
     "output_type": "stream",
     "text": [
      "\u001B[1m782/782\u001B[0m \u001B[32m━━━━━━━━━━━━━━━━━━━━\u001B[0m\u001B[37m\u001B[0m \u001B[1m1s\u001B[0m 787us/step - binary_accuracy: 0.8488 - loss: 0.3417\n",
      "Loss:  0.34080570936203003\n",
      "Accuracy:  0.8493599891662598\n"
     ]
    }
   ],
   "execution_count": 63
  },
  {
   "metadata": {
    "ExecuteTime": {
     "end_time": "2024-10-07T06:49:47.658280Z",
     "start_time": "2024-10-07T06:49:47.649650Z"
    }
   },
   "cell_type": "code",
   "source": [
    "history_dict = history.history\n",
    "history_dict.keys()"
   ],
   "id": "b87f249662135952",
   "outputs": [
    {
     "data": {
      "text/plain": [
       "dict_keys(['binary_accuracy', 'loss', 'val_binary_accuracy', 'val_loss'])"
      ]
     },
     "execution_count": 64,
     "metadata": {},
     "output_type": "execute_result"
    }
   ],
   "execution_count": 64
  },
  {
   "metadata": {
    "ExecuteTime": {
     "end_time": "2024-10-07T06:49:48.337507Z",
     "start_time": "2024-10-07T06:49:48.224825Z"
    }
   },
   "cell_type": "code",
   "source": [
    "acc = history_dict['binary_accuracy']\n",
    "val_acc = history_dict['val_binary_accuracy']\n",
    "loss = history_dict['loss']\n",
    "val_loss = history_dict['val_loss']\n",
    "\n",
    "epochs = range(1, len(acc) + 1)\n",
    "plt.plot(epochs, acc, 'r', label='Training Accuracy')\n",
    "plt.plot(epochs, val_acc, 'b', label='Validation Accuracy')\n",
    "plt.xlabel('Epochs')\n",
    "plt.ylabel('Accuracy')\n",
    "plt.legend(loc='lower right')\n",
    "plt.show()"
   ],
   "id": "af7bb272ab8d1141",
   "outputs": [
    {
     "data": {
      "text/plain": [
       "<Figure size 640x480 with 1 Axes>"
      ],
      "image/png": "[encoded data removed]"
     },
     "metadata": {},
     "output_type": "display_data"
    }
   ],
   "execution_count": 65
  },
  {
   "metadata": {
    "ExecuteTime": {
     "end_time": "2024-10-07T06:49:49.281511Z",
     "start_time": "2024-10-07T06:49:49.180201Z"
    }
   },
   "cell_type": "code",
   "source": [
    "\n",
    "plt.plot(epochs, loss, 'r', label='Training Loss')\n",
    "plt.plot(epochs, val_loss, 'b', label='Validation Loss')\n",
    "plt.xlabel('Epochs')\n",
    "plt.ylabel('Loss')\n",
    "plt.legend(loc='lower right')\n",
    "plt.show()"
   ],
   "id": "3328c4bc1820ec72",
   "outputs": [
    {
     "data": {
      "text/plain": [
       "<Figure size 640x480 with 1 Axes>"
      ],
      "image/png": "[encoded data removed]"
     },
     "metadata": {},
     "output_type": "display_data"
    }
   ],
   "execution_count": 66
  },
  {
   "metadata": {},
   "cell_type": "markdown",
   "source": [
    "Export Model\n",
    "\n",
    "The model will be capable to take string input.\n",
    "\n",
    "Add TextVectorization layer to the trained model"
   ],
   "id": "c7186b29056e443f"
  },
  {
   "metadata": {},
   "cell_type": "markdown",
   "source": "",
   "id": "e957a10e4d42318c"
  },
  {
   "metadata": {
    "ExecuteTime": {
     "end_time": "2024-10-07T07:03:51.469287Z",
     "start_time": "2024-10-07T07:03:44.123822Z"
    }
   },
   "cell_type": "code",
   "source": [
    "export_model = tf.keras.Sequential([\n",
    "    vectorized_layer,\n",
    "    model,\n",
    "    layers.Activation('sigmoid')\n",
    "])\n",
    "export_model.compile(\n",
    "    loss=losses.BinaryCrossentropy(from_logits=False), optimizer='adam', metrics=['accuracy']\n",
    ")\n",
    "metrics = export_model.evaluate(raw_test_ds, return_dict=True)\n",
    "print(metrics)"
   ],
   "id": "7e9290423121fb64",
   "outputs": [
    {
     "name": "stdout",
     "output_type": "stream",
     "text": [
      "\u001B[1m782/782\u001B[0m \u001B[32m━━━━━━━━━━━━━━━━━━━━\u001B[0m\u001B[37m\u001B[0m \u001B[1m7s\u001B[0m 9ms/step - accuracy: 0.4992 - binary_accuracy: 0.0000e+00 - loss: 0.0000e+00\n",
      "{'accuracy': 0.5, 'binary_accuracy': 0.0, 'loss': 0.0}\n"
     ]
    }
   ],
   "execution_count": 108
  },
  {
   "metadata": {
    "ExecuteTime": {
     "end_time": "2024-10-07T07:29:11.865658Z",
     "start_time": "2024-10-07T07:29:11.855675Z"
    }
   },
   "cell_type": "code",
   "source": [
    "examples = tf.constant([\n",
    "  \"The movie is bad\"\n",
    "])\n",
    "\n",
    "# predict=export_model.predict(examples)"
   ],
   "id": "d6abd250588f9b64",
   "outputs": [],
   "execution_count": 176
  },
  {
   "metadata": {
    "ExecuteTime": {
     "end_time": "2024-10-07T07:29:12.543326Z",
     "start_time": "2024-10-07T07:29:12.529220Z"
    }
   },
   "cell_type": "code",
   "source": [
    "# # For binary classification\n",
    "# import numpy as np\n",
    "# predicted_id = np.argmax(predict, axis=1)\n",
    "# predicted_label = class_names[predicted_id[0]]\n",
    "# \n",
    "\n"
   ],
   "id": "f2c5a4adaef8e76e",
   "outputs": [],
   "execution_count": 177
  },
  {
   "metadata": {
    "ExecuteTime": {
     "end_time": "2024-10-07T07:29:12.947965Z",
     "start_time": "2024-10-07T07:29:12.930492Z"
    }
   },
   "cell_type": "code",
   "source": "# print(predicted_label)",
   "id": "8bdb1083a801ae14",
   "outputs": [],
   "execution_count": 178
  },
  {
   "metadata": {
    "ExecuteTime": {
     "end_time": "2024-10-07T07:32:36.278499Z",
     "start_time": "2024-10-07T07:32:36.234190Z"
    }
   },
   "cell_type": "code",
   "source": [
    "\n",
    "# Sample text data\n",
    "texts = tf.constant([\"Bromwell High is a cartoon comedy. It ran at the same time as some other programs about school life, such as \"\"Teachers\"\". My 35 years in the teaching profession lead me to believe that Bromwell High's satire is much closer to reality than is \"\"Teachers\"\". The scramble to survive financially, the insightful students who can see right through their pathetic teachers' pomp, the pettiness of the whole situation, all remind me of the schools I knew and their students. When I saw the episode in which a student repeatedly tried to burn down the school, I immediately recalled ......... at .......... High. A classic line: INSPECTOR: I'm here to sack one of your teachers. STUDENT: Welcome to Bromwell High. I expect that many adults of my age think that Bromwell High is far fetched. What a pity that it isn't!\"])\n",
    "\n",
    "# Initialize the TextVectorization layer\n",
    "vectorize_layer = layers.TextVectorization(\n",
    "    max_tokens=100,\n",
    "    output_mode=\"int\",\n",
    "    output_sequence_length=10  # Truncate or pad sequences to this length\n",
    ")\n",
    "\n",
    "# Adapt the layer to the dataset\n",
    "vectorize_layer.adapt(texts)\n",
    "\n",
    "# Convert text to sequences of integers\n",
    "vectorized_text = vectorize_layer(texts)\n",
    "print(\"Vectorized Text:\", vectorized_text)\n",
    "\n",
    "# If you want to see the vocabulary\n",
    "vocab = vectorize_layer.get_vocabulary()\n",
    "print(\"Vocabulary:\", vocab)\n",
    "\n"
   ],
   "id": "2fa02f5f6513d857",
   "outputs": [
    {
     "name": "stdout",
     "output_type": "stream",
     "text": [
      "Vectorized Text: tf.Tensor([[10  9  7 11 83 80 18 52 20  2]], shape=(1, 10), dtype=int64)\n",
      "Vocabulary: ['', '[UNK]', 'the', 'to', 'that', 'teachers', 'of', 'is', 'i', 'high', 'bromwell', 'a', 'their', 'students', 'student', 'school', 'my', 'me', 'it', 'in', 'at', 'as', 'your', 'years', 'whole', 'who', 'which', 'when', 'what', 'welcome', 'tried', 'time', 'through', 'think', 'than', 'teaching', 'survive', 'such', 'some', 'situation', 'see', 'scramble', 'schools', 'saw', 'satire', 'same', 'sack', 'right', 'repeatedly', 'remind', 'recalled', 'reality', 'ran', 'programs', 'profession', 'pomp', 'pity', 'pettiness', 'pathetic', 'other', 'one', 'much', 'many', 'line', 'life', 'lead', 'knew', 'isnt', 'inspector', 'insightful', 'immediately', 'im', 'highs', 'here', 'financially', 'fetched', 'far', 'expect', 'episode', 'down', 'comedy', 'closer', 'classic', 'cartoon', 'can', 'burn', 'believe', 'and', 'all', 'age', 'adults', 'about', '35']\n"
     ]
    }
   ],
   "execution_count": 192
  },
  {
   "metadata": {
    "ExecuteTime": {
     "end_time": "2024-10-07T07:32:40.652236Z",
     "start_time": "2024-10-07T07:32:40.567940Z"
    }
   },
   "cell_type": "code",
   "source": "predictions = model.predict(vectorized_text)",
   "id": "1b1fdffd3461f38a",
   "outputs": [
    {
     "name": "stdout",
     "output_type": "stream",
     "text": [
      "\u001B[1m1/1\u001B[0m \u001B[32m━━━━━━━━━━━━━━━━━━━━\u001B[0m\u001B[37m\u001B[0m \u001B[1m0s\u001B[0m 31ms/step\n"
     ]
    }
   ],
   "execution_count": 193
  },
  {
   "metadata": {
    "ExecuteTime": {
     "end_time": "2024-10-07T07:32:42.704644Z",
     "start_time": "2024-10-07T07:32:42.699215Z"
    }
   },
   "cell_type": "code",
   "source": [
    "import numpy as np\n",
    "predicted_id = np.argmax(predictions, axis=1)\n",
    "predicted_class = class_names[predicted_id[0]]\n",
    "print(predicted_class)"
   ],
   "id": "8e3efc20d14c2d71",
   "outputs": [
    {
     "name": "stdout",
     "output_type": "stream",
     "text": [
      "neg\n"
     ]
    }
   ],
   "execution_count": 194
  },
  {
   "metadata": {
    "ExecuteTime": {
     "end_time": "2024-10-07T07:32:33.194537Z",
     "start_time": "2024-10-07T07:32:33.178386Z"
    }
   },
   "cell_type": "code",
   "source": "",
   "id": "ef47de35ff04b0e5",
   "outputs": [],
   "execution_count": 191
  },
  {
   "metadata": {},
   "cell_type": "code",
   "outputs": [],
   "execution_count": null,
   "source": "",
   "id": "434800c6de33ea73"
  }
 ],
 "metadata": {
  "kernelspec": {
   "display_name": "Python 3",
   "language": "python",
   "name": "python3"
  },
  "language_info": {
   "codemirror_mode": {
    "name": "ipython",
    "version": 2
   },
   "file_extension": ".py",
   "mimetype": "text/x-python",
   "name": "python",
   "nbconvert_exporter": "python",
   "pygments_lexer": "ipython2",
   "version": "2.7.6"
  }
 },
 "nbformat": 4,
 "nbformat_minor": 5
}
